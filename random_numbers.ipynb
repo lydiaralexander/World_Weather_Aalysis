{
 "cells": [
  {
   "cell_type": "code",
   "execution_count": 1,
   "id": "a5c7a2ec",
   "metadata": {},
   "outputs": [],
   "source": [
    "#import the random module\n",
    "import random"
   ]
  },
  {
   "cell_type": "code",
   "execution_count": 2,
   "id": "9dc28c70",
   "metadata": {},
   "outputs": [
    {
     "data": {
      "text/plain": [
       "77.33442698837587"
      ]
     },
     "execution_count": 2,
     "metadata": {},
     "output_type": "execute_result"
    }
   ],
   "source": [
    "random.uniform(-90, 90)"
   ]
  },
  {
   "cell_type": "code",
   "execution_count": 3,
   "id": "dd3cc861",
   "metadata": {},
   "outputs": [],
   "source": [
    "#import the NumPy module\n",
    "import numpy as np"
   ]
  },
  {
   "cell_type": "code",
   "execution_count": 5,
   "id": "4ac632b6",
   "metadata": {},
   "outputs": [
    {
     "data": {
      "text/plain": [
       "array([  9.28174991, -53.50049863,  -9.55769705,  45.44667662,\n",
       "        15.84829014, -32.31708218, -11.86232372, -82.79605681,\n",
       "        58.85885286,  18.39055553,  55.78046116, -49.699463  ,\n",
       "        16.31513696,  11.97890083,   9.14322224,  53.5111076 ,\n",
       "       -33.31067857,  -3.8282621 ,  47.93300324,  89.10374411,\n",
       "       -66.55162478, -19.29903848,  73.33323555,  87.73170778,\n",
       "       -13.79465067, -47.16030238,   8.63271332,  82.10681887,\n",
       "       -51.38256432,  59.6969076 ,  86.96803   ,   2.27472876,\n",
       "         7.36272231, -35.69751746,  37.30461939,  38.58497825,\n",
       "        87.81404046, -40.85192192, -16.7726722 , -17.62374786,\n",
       "        11.81041476,  74.78540713,  27.84491758,  76.98732992,\n",
       "        48.67912769,  41.26064772,  -5.2835228 ,  54.17818557,\n",
       "        -7.1017443 , -58.65198743])"
      ]
     },
     "execution_count": 5,
     "metadata": {},
     "output_type": "execute_result"
    }
   ],
   "source": [
    "np.random.uniform(-90.000, 90.000, size=50)"
   ]
  },
  {
   "cell_type": "code",
   "execution_count": 6,
   "id": "48fa7b5a",
   "metadata": {},
   "outputs": [
    {
     "name": "stdout",
     "output_type": "stream",
     "text": [
      "24.9 µs ± 1.05 µs per loop (mean ± std. dev. of 7 runs, 10000 loops each)\n"
     ]
    }
   ],
   "source": [
    "%timeit np.random.uniform(-90.000, 90.000, size=1500)"
   ]
  },
  {
   "cell_type": "code",
   "execution_count": 7,
   "id": "23c6a571",
   "metadata": {},
   "outputs": [
    {
     "name": "stdout",
     "output_type": "stream",
     "text": [
      "3.01 ms ± 137 µs per loop (mean ± std. dev. of 7 runs, 100 loops each)\n"
     ]
    }
   ],
   "source": [
    "def latitudes(size):\n",
    "    latitudes = []\n",
    "    x = 0\n",
    "    while x < (size):\n",
    "        random_lat = random.randint(-90, 90) + random.random()\n",
    "        latitudes.append(random_lat)\n",
    "        x += 1\n",
    "    return latitudes\n",
    "#call the function with 1500\n",
    "%timeit latitudes(1500)"
   ]
  },
  {
   "cell_type": "code",
   "execution_count": null,
   "id": "4e7c32a9",
   "metadata": {},
   "outputs": [],
   "source": []
  }
 ],
 "metadata": {
  "kernelspec": {
   "display_name": "PythonData",
   "language": "python",
   "name": "pythondata"
  },
  "language_info": {
   "codemirror_mode": {
    "name": "ipython",
    "version": 3
   },
   "file_extension": ".py",
   "mimetype": "text/x-python",
   "name": "python",
   "nbconvert_exporter": "python",
   "pygments_lexer": "ipython3",
   "version": "3.7.10"
  }
 },
 "nbformat": 4,
 "nbformat_minor": 5
}
